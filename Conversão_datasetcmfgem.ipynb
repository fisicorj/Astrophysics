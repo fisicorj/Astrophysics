{
  "nbformat": 4,
  "nbformat_minor": 0,
  "metadata": {
    "colab": {
      "provenance": [],
      "authorship_tag": "ABX9TyOXwlPqE1dozDpQyvtGmw9c",
      "include_colab_link": true
    },
    "kernelspec": {
      "name": "python3",
      "display_name": "Python 3"
    },
    "language_info": {
      "name": "python"
    }
  },
  "cells": [
    {
      "cell_type": "markdown",
      "metadata": {
        "id": "view-in-github",
        "colab_type": "text"
      },
      "source": [
        "<a href=\"https://colab.research.google.com/github/fisicorj/astrofisica/blob/main/Convers%C3%A3o_datasetcmfgem.ipynb\" target=\"_parent\"><img src=\"https://colab.research.google.com/assets/colab-badge.svg\" alt=\"Open In Colab\"/></a>"
      ]
    },
    {
      "cell_type": "code",
      "execution_count": null,
      "metadata": {
        "id": "bbSa59TUSpC1"
      },
      "outputs": [],
      "source": [
        "import pandas as pd\n",
        "import numpy as np\n",
        "import re\n",
        "\n",
        "# Helper function to process sections using regex\n",
        "def extract_section(data, section_name):\n",
        "    pattern = rf\"{section_name}\\s*\\(.*?\\)\\s*(.*?)\\s*(?=[A-Za-z]|$)\"\n",
        "    match = re.search(pattern, data, re.DOTALL)\n",
        "    if match:\n",
        "        section_data = match.group(1)\n",
        "        # Split and filter empty strings\n",
        "        values = [float(value) for value in section_data.split() if value]\n",
        "        return values\n",
        "    return []\n",
        "\n",
        "# Reading the entire file content\n",
        "file_path = '/mnt/data/OBSFLUX'\n",
        "with open(file_path, 'r') as file:\n",
        "    file_content = file.read()\n",
        "\n",
        "# Extracting sections using the helper function\n",
        "sections = {\n",
        "    'frequencies': extract_section(file_content, \"Continuum Frequencies\"),\n",
        "    'intensity': extract_section(file_content, \"Observed intensity\"),\n",
        "    'luminosity': extract_section(file_content, \"Luminosity\")\n",
        "}\n",
        "\n",
        "# Finding the maximum length of the extracted sections\n",
        "max_length = max(len(sections['frequencies']), len(sections['intensity']), len(sections['luminosity']))\n",
        "\n",
        "# Function to pad the lists with NaN values to ensure they have the same length\n",
        "def pad_list(lst, length):\n",
        "    return lst + [np.nan] * (length - len(lst))\n",
        "\n",
        "frequencies_padded = pad_list(sections['frequencies'], max_length)\n",
        "intensities_padded = pad_list(sections['intensity'], max_length)\n",
        "luminosities_padded = pad_list(sections['luminosity'], max_length)\n",
        "\n",
        "# Creating DataFrame with padded lists\n",
        "data = pd.DataFrame({\n",
        "    'Continuum Frequencies': frequencies_padded,\n",
        "    'Observed Intensity (Janskys)': intensities_padded,\n",
        "    'Luminosity': luminosities_padded\n",
        "})\n",
        "\n",
        "# Saving the dataset as a CSV file\n",
        "csv_file_path = '/mnt/data/processed_spectral_data.csv'\n",
        "data.to_csv(csv_file_path, index=False)\n"
      ]
    }
  ]
}