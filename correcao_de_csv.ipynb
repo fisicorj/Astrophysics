{
  "nbformat": 4,
  "nbformat_minor": 0,
  "metadata": {
    "colab": {
      "provenance": [],
      "authorship_tag": "ABX9TyPfweCyergbyT7aQa3pHHyI",
      "include_colab_link": true
    },
    "kernelspec": {
      "name": "python3",
      "display_name": "Python 3"
    },
    "language_info": {
      "name": "python"
    }
  },
  "cells": [
    {
      "cell_type": "markdown",
      "metadata": {
        "id": "view-in-github",
        "colab_type": "text"
      },
      "source": [
        "<a href=\"https://colab.research.google.com/github/fisicorj/astrofisica/blob/main/correcao_de_csv.ipynb\" target=\"_parent\"><img src=\"https://colab.research.google.com/assets/colab-badge.svg\" alt=\"Open In Colab\"/></a>"
      ]
    },
    {
      "cell_type": "code",
      "execution_count": 1,
      "metadata": {
        "id": "ViKK6WcPIQzO"
      },
      "outputs": [],
      "source": [
        "import csv\n",
        "\n",
        "def corrigir_csv(arquivo_entrada, arquivo_saida, codificacao='utf-8'):\n",
        "    with open(arquivo_entrada, 'r', newline='', encoding=codificacao) as arquivo_csv:\n",
        "        leitor_csv = csv.reader(arquivo_csv)\n",
        "        linhas_corrigidas = []\n",
        "        for linha in leitor_csv:\n",
        "            # Exemplo de correção: remover linhas vazias\n",
        "            if linha:\n",
        "                # Exemplo de correção: substituir valores ausentes por um valor padrão\n",
        "                linha_corrigida = [valor if valor else 'N/A' for valor in linha]\n",
        "                linhas_corrigidas.append(linha_corrigida)\n",
        "\n",
        "    with open(arquivo_saida, 'w', newline='', encoding=codificacao) as arquivo_corrigido:\n",
        "        escritor_csv = csv.writer(arquivo_corrigido)\n",
        "        escritor_csv.writerows(linhas_corrigidas)\n",
        "\n",
        "# Exemplo de uso\n",
        "arquivo_entrada = 'dados.csv'\n",
        "arquivo_saida = 'dados_corrigidos.csv'\n",
        "corrigir_csv(arquivo_entrada, arquivo_saida)\n"
      ]
    }
  ]
}