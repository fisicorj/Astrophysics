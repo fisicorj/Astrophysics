{
  "nbformat": 4,
  "nbformat_minor": 0,
  "metadata": {
    "colab": {
      "provenance": [],
      "authorship_tag": "ABX9TyNPnkCwgHZ6FlEMw8VSLZvU",
      "include_colab_link": true
    },
    "kernelspec": {
      "name": "python3",
      "display_name": "Python 3"
    },
    "language_info": {
      "name": "python"
    }
  },
  "cells": [
    {
      "cell_type": "markdown",
      "metadata": {
        "id": "view-in-github",
        "colab_type": "text"
      },
      "source": [
        "<a href=\"https://colab.research.google.com/github/fisicorj/Astrophysics/blob/main/Calculos_para_cfmgen.ipynb\" target=\"_parent\"><img src=\"https://colab.research.google.com/assets/colab-badge.svg\" alt=\"Open In Colab\"/></a>"
      ]
    },
    {
      "cell_type": "code",
      "source": [
        "import numpy as np\n",
        "\n",
        "def calcular_mdot(teff_kK, log_g, log_l_lsun):\n",
        "    \"\"\"\n",
        "    Calcula a taxa de perda de massa (MDOT) em M_sun/ano para uso no CFMGEN,\n",
        "    formatado em notação científica com precisão similar ao arquivo VADAT.\n",
        "\n",
        "    Parâmetros:\n",
        "    - teff_kK: Temperatura efetiva da estrela em kK (kilokelvin).\n",
        "    - log_g: Logaritmo da gravidade superficial.\n",
        "    - log_l_lsun: Logaritmo da luminosidade em relação ao Sol (log L/L⊙).\n",
        "\n",
        "    Retorna:\n",
        "    - MDOT formatado em notação científica no padrão do CFMGEN.\n",
        "    \"\"\"\n",
        "    # Converter log L/L⊙ para L/L⊙ (já está correto para o CFMGEN)\n",
        "    l_lsun = 10 ** log_l_lsun\n",
        "\n",
        "    # Converter log g para g (já está correto para o CFMGEN, pois usa cm/s²)\n",
        "    g = 10 ** log_g\n",
        "\n",
        "    # Converter Teff de kK para unidade padrão do CFMGEN (10^4 K)\n",
        "    teff_cmfgen = teff_kK / 10\n",
        "\n",
        "    # Calcular MDOT com a relação empírica\n",
        "    mdot = (l_lsun ** 1.5) * (g ** -1.0) * (teff_cmfgen ** -2.0)\n",
        "\n",
        "    # Formatar MDOT para notação científica com 6 dígitos significativos\n",
        "    return f\"{mdot:.6E} M_sun/ano\"\n",
        "\n",
        "# Solicitar entrada do usuário\n",
        "teff_kK = float(input(\"Digite a temperatura efetiva (Teff) em kK: \"))\n",
        "log_g = float(input(\"Digite o log g: \"))\n",
        "log_l_lsun = float(input(\"Digite o log L/L⊙: \"))\n",
        "\n",
        "# Calcular e exibir o resultado\n",
        "mdot_resultado = calcular_mdot(teff_kK, log_g, log_l_lsun)\n",
        "print(f\"MDOT: {mdot_resultado}\")\n",
        "\n"
      ],
      "metadata": {
        "colab": {
          "base_uri": "https://localhost:8080/"
        },
        "id": "bfP937nccaKl",
        "outputId": "c42e0806-61e2-43bc-c3b3-d878612368ba"
      },
      "execution_count": null,
      "outputs": [
        {
          "output_type": "stream",
          "name": "stdout",
          "text": [
            "Digite a temperatura efetiva (Teff) em kK: 27.5\n",
            "Digite o log g: 3.05\n",
            "Digite o log L/L⊙: 5.82\n",
            "MDOT: 6.328993E+04 M_sun/ano\n"
          ]
        }
      ]
    },
    {
      "cell_type": "code",
      "source": [
        "from decimal import Decimal, getcontext\n",
        "\n",
        "# Ajustar precisão global para alta precisão\n",
        "getcontext().prec = 50\n",
        "\n",
        "def calcular_lstar_log(log_l_lsun):\n",
        "    \"\"\"\n",
        "    Calcula a luminosidade estelar LSTAR diretamente em L⊙\n",
        "    sem multiplicação por L_sun.\n",
        "    \"\"\"\n",
        "    # Converter log L/L⊙ para L/L⊙ usando Decimal para maior precisão\n",
        "    l_lsun = Decimal(10) ** Decimal(log_l_lsun)\n",
        "\n",
        "    return f\"{l_lsun:.6e} L⊙\"  # Retorna o valor com 10 casas decimais\n",
        "\n",
        "# Solicitar entrada do usuário\n",
        "log_l_lsun = Decimal(input(\"Digite o valor de log L/L⊙: \"))\n",
        "\n",
        "# Calcular e exibir o resultado\n",
        "lstar_resultado = calcular_lstar_log(log_l_lsun)\n",
        "print(f\"LSTAR: {lstar_resultado}\")\n"
      ],
      "metadata": {
        "colab": {
          "base_uri": "https://localhost:8080/"
        },
        "id": "YPQG8mo_XzzC",
        "outputId": "d3f9fa70-ce3a-424f-baed-9f9cefb9db27"
      },
      "execution_count": null,
      "outputs": [
        {
          "output_type": "stream",
          "name": "stdout",
          "text": [
            "Digite o valor de log L/L⊙: 5.21\n",
            "LSTAR: 1.621810e+5 L⊙\n"
          ]
        }
      ]
    }
  ]
}